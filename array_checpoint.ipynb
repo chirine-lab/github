{
  "nbformat": 4,
  "nbformat_minor": 0,
  "metadata": {
    "colab": {
      "provenance": [],
      "authorship_tag": "ABX9TyPyWXQZscSwprVSBNQD8Saa",
      "include_colab_link": true
    },
    "kernelspec": {
      "name": "python3",
      "display_name": "Python 3"
    },
    "language_info": {
      "name": "python"
    }
  },
  "cells": [
    {
      "cell_type": "markdown",
      "metadata": {
        "id": "view-in-github",
        "colab_type": "text"
      },
      "source": [
        "<a href=\"https://colab.research.google.com/github/chirine-lab/github/blob/main/array_checpoint.ipynb\" target=\"_parent\"><img src=\"https://colab.research.google.com/assets/colab-badge.svg\" alt=\"Open In Colab\"/></a>"
      ]
    },
    {
      "cell_type": "code",
      "source": [
        "import numpy as np\n",
        "\n",
        "# Création du tableau \"grades\"\n",
        "grades = np.array([85, 90, 88, 92, 95, 80, 75, 98, 89, 83])\n",
        "\n",
        "# Moyenne\n",
        "mean = np.mean(grades)\n",
        "\n",
        "# Médiane\n",
        "median = np.median(grades)\n",
        "\n",
        "# Écart type\n",
        "std_dev = np.std(grades)\n",
        "\n",
        "# Maximum et minimum\n",
        "max_grade = np.max(grades)\n",
        "min_grade = np.min(grades)\n",
        "\n",
        "# Indice de la note la plus élevée\n",
        "index_max = np.argmax(grades)\n",
        "\n",
        "# Nombre d'étudiants avec une note > 90\n",
        "count_above_90 = np.sum(grades > 90)\n",
        "\n",
        "# Pourcentage d'étudiants avec une note > 90\n",
        "percentage_above_90 = np.mean(grades > 90) * 100\n",
        "\n",
        "# Nouveau tableau avec les notes > 75\n",
        "passing_grades = grades[grades > 75]\n",
        "\n",
        "# Impression des résultats\n",
        "print(\"Grades:\", grades)\n",
        "print(\"Moyenne:\", mean)\n",
        "print(\"Médiane:\", median)\n",
        "print(\"Écart type:\", std_dev)\n",
        "print(\"Note maximale:\", max_grade)\n",
        "print(\"Note minimale:\", min_grade)\n",
        "print(\"Indice de la note maximale:\", index_max)\n",
        "print(\"Nombre de notes > 90:\", count_above_90)\n",
        "print(\"Pourcentage de notes > 90:\", percentage_above_90, \"%\")\n",
        "print(\"Notes supérieures à 75 (passing_grades):\", passing_grades)\n"
      ],
      "metadata": {
        "colab": {
          "base_uri": "https://localhost:8080/"
        },
        "id": "qsza8w_llsUf",
        "outputId": "2586d23f-4ffd-45eb-8f49-b7c4f4f3170d"
      },
      "execution_count": 3,
      "outputs": [
        {
          "output_type": "stream",
          "name": "stdout",
          "text": [
            "Grades: [85 90 88 92 95 80 75 98 89 83]\n",
            "Moyenne: 87.5\n",
            "Médiane: 88.5\n",
            "Écart type: 6.591661399070799\n",
            "Note maximale: 98\n",
            "Note minimale: 75\n",
            "Indice de la note maximale: 7\n",
            "Nombre de notes > 90: 3\n",
            "Pourcentage de notes > 90: 30.0 %\n",
            "Notes supérieures à 75 (passing_grades): [85 90 88 92 95 80 98 89 83]\n"
          ]
        }
      ]
    }
  ]
}